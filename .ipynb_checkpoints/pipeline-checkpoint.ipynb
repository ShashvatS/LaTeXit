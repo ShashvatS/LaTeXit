{
 "cells": [
  {
   "cell_type": "code",
   "execution_count": 1,
   "metadata": {},
   "outputs": [],
   "source": [
    "import io\n",
    "from google.cloud import vision\n",
    "from google.cloud.vision import types\n",
    "\n",
    "from tqdm import tqdm\n",
    "import statistics"
   ]
  },
  {
   "cell_type": "code",
   "execution_count": 2,
   "metadata": {},
   "outputs": [],
   "source": [
    "import cv2\n",
    "import numpy as np\n",
    "from matplotlib import pyplot as plt"
   ]
  },
  {
   "cell_type": "code",
   "execution_count": 3,
   "metadata": {},
   "outputs": [],
   "source": [
    "def get_image(file):\n",
    "    img = cv2.imread(file)\n",
    "    if img.shape[0] < img.shape[1]:\n",
    "        img = np.rot90(np.rot90(np.rot90(img)))\n",
    "        cv2.imwrite(\"./rtmp.jpg\", img)\n",
    "        img = cv2.imread(\"./rtmp.jpg\")\n",
    "    return img"
   ]
  },
  {
   "cell_type": "code",
   "execution_count": 4,
   "metadata": {},
   "outputs": [],
   "source": [
    "original = get_image(\"IMG_2180.JPG\")"
   ]
  },
  {
   "cell_type": "code",
   "execution_count": 9,
   "metadata": {},
   "outputs": [
    {
     "data": {
      "text/plain": [
       "True"
      ]
     },
     "execution_count": 9,
     "metadata": {},
     "output_type": "execute_result"
    }
   ],
   "source": [
    "img = original.copy()\n",
    "img = img[:, 0:img.shape[1] // 3]\n",
    "\n",
    "ret, thresh = cv2.threshold(img[:,:,1], 0, 255, cv2.THRESH_BINARY | cv2.THRESH_OTSU)\n",
    "ret, thresh2 = cv2.threshold(img[:,:,2], 0, 255, cv2.THRESH_BINARY | cv2.THRESH_OTSU)\n",
    "thresh = cv2.bitwise_xor(thresh, thresh2)\n",
    "edges = cv2.Canny(thresh,50,150,apertureSize = 3)\n",
    "minLineLength = 1000\n",
    "maxLineGap = 10\n",
    "\n",
    "lines = cv2.HoughLinesP(thresh,1,np.pi/180,100,minLineLength,maxLineGap)\n",
    "lines = [line for line in lines if abs(line[0][0] - line[0][2]) <= 10]\n",
    "\n",
    "avgx = int(np.average([line[0][0] for line in lines]))\n",
    "rest = original.copy()[:, int(avgx):]\n",
    "img = img[:, 0:int(avgx)]\n",
    "\n",
    "cv2.imwrite('crop.jpg',img)\n",
    "cv2.imwrite('rest.jpg', rest)"
   ]
  },
  {
   "cell_type": "code",
   "execution_count": 10,
   "metadata": {},
   "outputs": [
    {
     "name": "stderr",
     "output_type": "stream",
     "text": [
      "/home/shashvat/anaconda3/lib/python3.7/site-packages/google/auth/_default.py:66: UserWarning: Your application has authenticated using end user credentials from Google Cloud SDK. We recommend that most server applications use service accounts instead. If your application continues to use end user credentials from Cloud SDK, you might receive a \"quota exceeded\" or \"API not enabled\" error. For more information about service accounts, see https://cloud.google.com/docs/authentication/\n",
      "  warnings.warn(_CLOUD_SDK_CREDENTIALS_WARNING)\n"
     ]
    }
   ],
   "source": [
    "client = vision.ImageAnnotatorClient()"
   ]
  },
  {
   "cell_type": "code",
   "execution_count": 17,
   "metadata": {},
   "outputs": [],
   "source": [
    "def get_response(filein, othermode = False):\n",
    "    with io.open(filein, 'rb') as image_file:\n",
    "        image = types.Image(content = image_file.read())\n",
    "    response = None\n",
    "    if othermode:\n",
    "        response = client.text_detection(image=image)\n",
    "    else:\n",
    "        response = client.document_text_detection(image=image)\n",
    "    return response"
   ]
  },
  {
   "cell_type": "code",
   "execution_count": 18,
   "metadata": {},
   "outputs": [],
   "source": [
    "crop_response = get_response(\"./crop.jpg\")"
   ]
  },
  {
   "cell_type": "code",
   "execution_count": 19,
   "metadata": {},
   "outputs": [],
   "source": [
    "for page in crop_response.full_text_annotation.pages:\n",
    "    print(\"hello\")\n",
    "    print(page.text)"
   ]
  },
  {
   "cell_type": "code",
   "execution_count": 20,
   "metadata": {},
   "outputs": [
    {
     "name": "stdout",
     "output_type": "stream",
     "text": [
      "\n"
     ]
    }
   ],
   "source": [
    "print(crop_response)"
   ]
  },
  {
   "cell_type": "code",
   "execution_count": 21,
   "metadata": {},
   "outputs": [],
   "source": [
    "def rot_image(file):\n",
    "    img = cv2.imread(file)\n",
    "    if img.shape[0] < img.shape[1]:\n",
    "        img = np.rot90(np.rot90(np.rot90(img)))\n",
    "        cv2.imwrite(file, img)"
   ]
  },
  {
   "cell_type": "code",
   "execution_count": null,
   "metadata": {},
   "outputs": [],
   "source": []
  }
 ],
 "metadata": {
  "kernelspec": {
   "display_name": "Python 3",
   "language": "python",
   "name": "python3"
  },
  "language_info": {
   "codemirror_mode": {
    "name": "ipython",
    "version": 3
   },
   "file_extension": ".py",
   "mimetype": "text/x-python",
   "name": "python",
   "nbconvert_exporter": "python",
   "pygments_lexer": "ipython3",
   "version": "3.7.3"
  }
 },
 "nbformat": 4,
 "nbformat_minor": 2
}

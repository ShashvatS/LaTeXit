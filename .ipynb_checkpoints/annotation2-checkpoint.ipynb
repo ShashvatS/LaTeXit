{
 "cells": [
  {
   "cell_type": "code",
   "execution_count": 1,
   "metadata": {},
   "outputs": [],
   "source": [
    "import cv2\n",
    "import numpy as np\n",
    "from matplotlib import pyplot as plt\n",
    "import os"
   ]
  },
  {
   "cell_type": "code",
   "execution_count": 2,
   "metadata": {},
   "outputs": [],
   "source": [
    "%matplotlib notebook"
   ]
  },
  {
   "cell_type": "code",
   "execution_count": 3,
   "metadata": {},
   "outputs": [],
   "source": [
    "def get_image(file):\n",
    "    img = cv2.imread(file)\n",
    "    if img.shape[0] < img.shape[1]:\n",
    "        img = np.rot90(np.rot90(np.rot90(img)))\n",
    "        cv2.imwrite(\"./rtmp.jpg\", img)\n",
    "        img = cv2.imread(\"./rtmp.jpg\")\n",
    "    return img"
   ]
  },
  {
   "cell_type": "code",
   "execution_count": 4,
   "metadata": {},
   "outputs": [],
   "source": [
    "def show(img, change_color = True):\n",
    "    if change_color:\n",
    "        plt.imshow(cv2.cvtColor(img, cv2.COLOR_BGR2RGB))\n",
    "    else:\n",
    "        plt.imshow(img)"
   ]
  },
  {
   "cell_type": "code",
   "execution_count": 5,
   "metadata": {},
   "outputs": [
    {
     "name": "stdout",
     "output_type": "stream",
     "text": [
      "(4032, 3024, 3)\n"
     ]
    },
    {
     "data": {
      "text/plain": [
       "True"
      ]
     },
     "execution_count": 5,
     "metadata": {},
     "output_type": "execute_result"
    }
   ],
   "source": [
    "img = get_image(\"test_cv.JPG\")\n",
    "print(img.shape)\n",
    "img = img[:, 0:img.shape[1] // 3]\n",
    "\n",
    "ret, thresh = cv2.threshold(img[:,:,1], 0, 255, cv2.THRESH_BINARY | cv2.THRESH_OTSU)\n",
    "ret, thresh2 = cv2.threshold(img[:,:,2], 0, 255, cv2.THRESH_BINARY | cv2.THRESH_OTSU)\n",
    "# res = cv2.add(m1, cv2.add(m2, m3))\n",
    "# gray = cv2.cvtColor(thresh, cv2.COLOR_BGR2GRAY)\n",
    "thresh = cv2.bitwise_xor(thresh, thresh2)\n",
    "cv2.imwrite('thresh.jpg',thresh)\n",
    "edges = cv2.Canny(thresh,50,150,apertureSize = 3)\n",
    "cv2.imwrite('edges.jpg', edges)\n",
    "minLineLength = 1000\n",
    "maxLineGap = 10\n",
    "\n",
    "lines = cv2.HoughLinesP(thresh,1,np.pi/180,100,minLineLength,maxLineGap)\n",
    "lines = [line for line in lines if abs(line[0][0] - line[0][2]) <= 10]\n",
    "\n",
    "avgx = int(np.average([line[0][0] for line in lines]))\n",
    "img = img[:, 0:int(avgx)]\n",
    "\n",
    "cv2.imwrite('crop.jpg',img)"
   ]
  },
  {
   "cell_type": "code",
   "execution_count": null,
   "metadata": {},
   "outputs": [],
   "source": []
  }
 ],
 "metadata": {
  "kernelspec": {
   "display_name": "Python 3",
   "language": "python",
   "name": "python3"
  },
  "language_info": {
   "codemirror_mode": {
    "name": "ipython",
    "version": 3
   },
   "file_extension": ".py",
   "mimetype": "text/x-python",
   "name": "python",
   "nbconvert_exporter": "python",
   "pygments_lexer": "ipython3",
   "version": "3.7.3"
  }
 },
 "nbformat": 4,
 "nbformat_minor": 2
}
